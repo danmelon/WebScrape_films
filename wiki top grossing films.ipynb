{
 "cells": [
  {
   "cell_type": "code",
   "execution_count": 43,
   "id": "c4914386",
   "metadata": {},
   "outputs": [],
   "source": [
    "#importing required Libraries\n",
    "import requests, openpyxl\n",
    "import requests       #to send the request to the URL\n",
    "from bs4 import BeautifulSoup #to get the content in the form of HTML\n",
    "\n",
    "\n",
    "excel = openpyxl.Workbook()\n",
    "sheet = excel.active\n",
    "sheet.title = 'Top Grossing films'\n",
    "\n",
    "sheet.append(['Film Title','Rank','Year of Release', 'Worldwide gross'])\n",
    "\n",
    "\n",
    "#assigning the URL with variable name url\n",
    "url = 'https://en.wikipedia.org/wiki/List_of_highest-grossing_films'\n",
    "#request allow you to send HTTP request\n",
    "response = requests.get(url)\n",
    "soup = BeautifulSoup(response.content, 'html.parser')\n",
    "\n",
    "#creating an empty list, so that we can append the values\n",
    "\n",
    "#storing the meaningfull required data in the variable\n",
    "movie_data = soup.find('tbody').find_all('tr')\n",
    "\n",
    "movie_data.pop(0)    #takes off first result which usually returns 'None' since it is the table header\n",
    "\n",
    "\n",
    "#calling one by one using for loop\n",
    "for store in movie_data:\n",
    "    \n",
    "    \n",
    "    name = store.find('i').text\n",
    "  \n",
    "    \n",
    "    rank = store.find('td').text\n",
    "\n",
    "    \n",
    "    year_of_release = store.find('td').next_sibling.next_sibling.next_sibling.next_sibling.next_sibling.next_sibling.next_sibling.next_sibling.text\n",
    "    \n",
    "    \n",
    "    worldwide_gross = store.find('td').next_sibling.next_sibling.next_sibling.next_sibling.next_sibling.next_sibling.text.strip('$')\n",
    " \n",
    "\n",
    "    sheet.append([name, rank, year_of_release, worldwide_gross])\n",
    "    \n",
    "excel.save('Top grossing movie.xlsx')\n"
   ]
  },
  {
   "cell_type": "code",
   "execution_count": null,
   "id": "c85e9215",
   "metadata": {},
   "outputs": [],
   "source": []
  }
 ],
 "metadata": {
  "kernelspec": {
   "display_name": "Python 3 (ipykernel)",
   "language": "python",
   "name": "python3"
  },
  "language_info": {
   "codemirror_mode": {
    "name": "ipython",
    "version": 3
   },
   "file_extension": ".py",
   "mimetype": "text/x-python",
   "name": "python",
   "nbconvert_exporter": "python",
   "pygments_lexer": "ipython3",
   "version": "3.9.7"
  }
 },
 "nbformat": 4,
 "nbformat_minor": 5
}
