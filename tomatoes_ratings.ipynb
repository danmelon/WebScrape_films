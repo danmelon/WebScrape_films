{
 "cells": [
  {
   "cell_type": "code",
   "execution_count": 28,
   "id": "fecb27a5",
   "metadata": {
    "scrolled": true
   },
   "outputs": [
    {
     "name": "stderr",
     "output_type": "stream",
     "text": [
      "C:\\Users\\djdan\\anaconda3\\lib\\site-packages\\openpyxl\\workbook\\child.py:99: UserWarning: Title is more than 31 characters. Some applications may not be able to read the file\n",
      "  warnings.warn(\"Title is more than 31 characters. Some applications may not be able to read the file\")\n"
     ]
    }
   ],
   "source": [
    "#importing required Libraries\n",
    "import requests, openpyxl\n",
    "import requests       #to send the request to the URL\n",
    "from bs4 import BeautifulSoup #to get the content in the form of HTML\n",
    "\n",
    "\n",
    "excel = openpyxl.Workbook()\n",
    "sheet = excel.active\n",
    "sheet.title = 'Top Rated Movies on Rotten Tomatoes'\n",
    "\n",
    "sheet.append(['Film Title','Rank','Year of Release','Rating'])\n",
    "\n",
    "url = 'https://www.rottentomatoes.com/top/bestofrt/'\n",
    "response = requests.get(url)\n",
    "soup = BeautifulSoup(response.content, 'html.parser')\n",
    "\n",
    "\n",
    "movie_data = soup.find('table', class_= \"table\").find_all('tr')\n",
    "\n",
    "movie_data.pop(0)\n",
    "\n",
    "for store in movie_data:\n",
    "    name = store.find('a', class_=\"unstyled articleLink\").text.strip().split('(')[0]\n",
    "    \n",
    "    release_date = store.find('a', class_=\"unstyled articleLink\").text.strip().split('(')[1].strip(')')\n",
    "    \n",
    "    rank = store.find('td', class_=\"bold\").text.strip('.')\n",
    "    \n",
    "    rating = store.find('span', class_=\"tMeterScore\").text.strip('%')\n",
    "    \n",
    "    sheet.append([name, rank, release_date, rating])\n",
    "    \n",
    "excel.save('Rotten Tomatoes Top 100 films.xlsx')"
   ]
  },
  {
   "cell_type": "code",
   "execution_count": null,
   "id": "8756c3ea",
   "metadata": {},
   "outputs": [],
   "source": []
  }
 ],
 "metadata": {
  "kernelspec": {
   "display_name": "Python 3 (ipykernel)",
   "language": "python",
   "name": "python3"
  },
  "language_info": {
   "codemirror_mode": {
    "name": "ipython",
    "version": 3
   },
   "file_extension": ".py",
   "mimetype": "text/x-python",
   "name": "python",
   "nbconvert_exporter": "python",
   "pygments_lexer": "ipython3",
   "version": "3.9.7"
  }
 },
 "nbformat": 4,
 "nbformat_minor": 5
}
